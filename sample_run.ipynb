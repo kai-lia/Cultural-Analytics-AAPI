{
 "cells": [
  {
   "cell_type": "markdown",
   "id": "8f9ce221",
   "metadata": {},
   "source": [
    "## Libraries"
   ]
  },
  {
   "cell_type": "code",
   "execution_count": 15,
   "id": "9e210d84",
   "metadata": {},
   "outputs": [],
   "source": [
    "import io\n",
    "import requests\n",
    "import gzip\n",
    "import pandas as pd\n",
    "\n",
    "from warcio.archiveiterator import ArchiveIterator"
   ]
  },
  {
   "cell_type": "code",
   "execution_count": null,
   "id": "10ee0c8b",
   "metadata": {},
   "outputs": [
    {
     "data": {
      "text/plain": [
       "True"
      ]
     },
     "execution_count": 19,
     "metadata": {},
     "output_type": "execute_result"
    }
   ],
   "source": [
    "def get_ethnic_group_list():\n",
    "    ethnic_df = pd.read_csv(\"data/DECENNIALDDHCB2020.T03004-Data.csv\", header=1)\n",
    "    ethnic_df[\"Ethnic Group\"] = ethnic_df[\"Population Groups\"].str.extract(\n",
    "        r\"(.*?) alone\"\n",
    "    )\n",
    "    ethnic_df[\"Ethnic Group\"] = ethnic_df[\"Ethnic Group\"].replace(\n",
    "        \"Chinese, except Taiwanese\", \"Chinese\"\n",
    "    )\n",
    "    ethnic_df = ethnic_df[~ethnic_df[\"Ethnic Group\"].str.contains(\"Other\", na=False)]\n",
    "    ethnic_group_list = sorted(ethnic_df[\"Ethnic Group\"].unique().tolist())\n",
    "    ethnic_group_list += [\"AAPI\", \"Asian American\", \"Asian\", \"Pacific Islander\"]\n",
    "\n",
    "    return ethnic_group_list\n"
   ]
  },
  {
   "cell_type": "code",
   "execution_count": null,
   "id": "dbce924d",
   "metadata": {},
   "outputs": [],
   "source": []
  }
 ],
 "metadata": {
  "kernelspec": {
   "display_name": "cultrual-analytics",
   "language": "python",
   "name": "python3"
  },
  "language_info": {
   "codemirror_mode": {
    "name": "ipython",
    "version": 3
   },
   "file_extension": ".py",
   "mimetype": "text/x-python",
   "name": "python",
   "nbconvert_exporter": "python",
   "pygments_lexer": "ipython3",
   "version": "3.11.14"
  }
 },
 "nbformat": 4,
 "nbformat_minor": 5
}
